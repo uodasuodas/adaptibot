{
 "cells": [
  {
   "cell_type": "code",
   "execution_count": null,
   "id": "89a860d5-a6c7-4403-90a4-1f1f59af57f2",
   "metadata": {},
   "outputs": [],
   "source": [
    "import torch\n",
    "import sys\n",
    "\n",
    "pt_path = \"/home/ut-ai/ai-works/adaptibot/yolo_detect/runs/stereo_objects5/weights/best.pt\"\n",
    "onnx_path = \"/home/ut-ai/ai-works/adaptibot/yolo_detect/onnx/0924_model.onnx\"\n",
    "\n",
    "# Load your model (replace with your class if custom)\n",
    "model = torch.load(pt_path, map_location=\"cpu\")\n",
    "model.eval()\n",
    "\n",
    "# Define a dummy input (adjust shape to your model, e.g. batch=1, channels=3, 224x224)\n",
    "dummy_input = torch.randn(1, 3, 224, 224)\n",
    "\n",
    "# Export\n",
    "torch.onnx.export(\n",
    "    model,\n",
    "    dummy_input,\n",
    "    onnx_path,\n",
    "    export_params=True,\n",
    "    opset_version=11,\n",
    "    do_constant_folding=True,\n",
    "    input_names=[\"input\"],\n",
    "    output_names=[\"output\"]\n",
    ")\n",
    "\n",
    "print(f\"Converted {pt_path} -> {onnx_path}\")\n"
   ]
  }
 ],
 "metadata": {
  "kernelspec": {
   "display_name": "Python 3 (ipykernel)",
   "language": "python",
   "name": "python3"
  },
  "language_info": {
   "codemirror_mode": {
    "name": "ipython",
    "version": 3
   },
   "file_extension": ".py",
   "mimetype": "text/x-python",
   "name": "python",
   "nbconvert_exporter": "python",
   "pygments_lexer": "ipython3",
   "version": "3.12.3"
  }
 },
 "nbformat": 4,
 "nbformat_minor": 5
}
