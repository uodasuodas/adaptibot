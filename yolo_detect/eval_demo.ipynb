{
  "cells": [
    {
      "cell_type": "code",
      "execution_count": null,
      "metadata": {},
      "outputs": [],
      "source": [
        "# Evaluation demo for YOLO detections and color\n",
        "# This notebook loads the trained YOLO model, runs inference on sample images, and shows predicted classes, boxes, and the dominant color per box.\n",
        "\n",
        "import os\n",
        "import json\n",
        "import cv2\n",
        "import numpy as np\n",
        "import matplotlib.pyplot as plt\n",
        "from ultralytics import YOLO\n",
        "from color_utils import compute_dominant_color_id, COLOR_ID_TO_NAME\n",
        "\n",
        "DATASET_DIR = '/Users/tomas.komar/digitecus/fotos/dataset'\n",
        "IMAGES_DIR = os.path.join(DATASET_DIR, 'images', 'val')\n",
        "WEIGHTS = '/Users/tomas.komar/digitecus/fotos/runs/detect/stereo_objects/weights/best.pt'\n",
        "CLASS_NAMES = ['any/unknown','can','duck','cup','sponge','ball','vegetable']\n",
        "\n",
        "model = YOLO(WEIGHTS)\n",
        "\n",
        "def show_image_with_preds(img_path):\n",
        "\timg = cv2.imread(img_path, cv2.IMREAD_COLOR)\n",
        "\tif img is None:\n",
        "\t\tprint('Failed to read', img_path)\n",
        "\t\treturn\n",
        "\tres = model.predict(img, imgsz=640, conf=0.25)[0]\n",
        "\timg_show = img.copy()\n",
        "\n",
        "\tfor b in res.boxes:\n",
        "\t\tcls_id = int(b.cls.item())\n",
        "\t\tconf = float(b.conf.item())\n",
        "\t\tx1, y1, x2, y2 = map(int, b.xyxy[0].tolist())\n",
        "\t\tcolor_id = compute_dominant_color_id(img, (x1,y1,x2,y2))\n",
        "\t\tlabel = f\"{CLASS_NAMES[cls_id]} {conf:.2f} | {COLOR_ID_TO_NAME.get(color_id, 'any/unknown')}\"\n",
        "\t\tcv2.rectangle(img_show, (x1,y1), (x2,y2), (0,255,0), 2)\n",
        "\t\tcv2.putText(img_show, label, (x1, max(0,y1-5)), cv2.FONT_HERSHEY_SIMPLEX, 0.5, (0,255,0), 1, cv2.LINE_AA)\n",
        "\n",
        "\timg_show_rgb = cv2.cvtColor(img_show, cv2.COLOR_BGR2RGB)\n",
        "\tplt.figure(figsize=(10,6))\n",
        "\tplt.imshow(img_show_rgb)\n",
        "\tplt.axis('off')\n",
        "\tplt.title(os.path.basename(img_path))\n",
        "\tplt.show()\n",
        "\n",
        "# Demo: show a few images\n",
        "val_images = [os.path.join(IMAGES_DIR, f) for f in os.listdir(IMAGES_DIR) if f.lower().endswith('.png')]\n",
        "for p in val_images[:10]:\n",
        "\tshow_image_with_preds(p)\n",
        "\n"
      ]
    }
  ],
  "metadata": {
    "language_info": {
      "name": "python"
    }
  },
  "nbformat": 4,
  "nbformat_minor": 2
}
